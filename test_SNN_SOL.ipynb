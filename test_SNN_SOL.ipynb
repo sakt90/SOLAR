{
 "cells": [
  {
   "cell_type": "code",
   "execution_count": 8,
   "metadata": {},
   "outputs": [
    {
     "name": "stdout",
     "output_type": "stream",
     "text": [
      "GPU\n",
      "GPUs Count: 1\n"
     ]
    }
   ],
   "source": [
    "import torch\n",
    "import os, time\n",
    "import matplotlib.pyplot as plt\n",
    "import torch.nn.functional as F\n",
    "import numpy as np\n",
    "import random\n",
    "from torch.optim import SGD, lr_scheduler\n",
    "from dataloaders.cifar10 import cifar10_dataloaders\n",
    "from dataloaders.svhn import svhn_dataloaders\n",
    "from dataloaders.stl10 import stl10_dataloaders\n",
    "from utils.utils import *\n",
    "import multiprocessing as mp\n",
    "mp.set_start_method('spawn', force=True) ### to avoid Caffe Warnings\n",
    "\n",
    "################################################ Importing Models and Width Multiplier List\n",
    "from models.slimmable_ops import width_mult_list\n",
    "from models.cifar10.resnet_slimmable import SlimmableResNet34\n",
    "from models.svhn.wide_resnet_slimmable import SlimmableWideResNet_16_8\n",
    "from models.cifar10.mobilenet_v2_slimmable import SlimmableMobileNetV2\n",
    "\n",
    "# Setting Device\n",
    "device = torch.device(\"cuda:0\" if torch.cuda.is_available() else \"cpu\")\n",
    "print('GPU') if str(device) == \"cuda:0\" else print('GPU not Detected - CPU Selected')\n",
    "print(f\"GPUs Count: {torch.cuda.device_count()}\") # Show how many GPUs are available"
   ]
  },
  {
   "cell_type": "code",
   "execution_count": 9,
   "metadata": {},
   "outputs": [],
   "source": [
    "def set_seed(seed=3):\n",
    "    torch.manual_seed(seed)\n",
    "    torch.cuda.manual_seed_all(seed)\n",
    "    np.random.seed(seed)\n",
    "    random.seed(seed)\n",
    "    torch.backends.cudnn.deterministic = True\n",
    "    torch.backends.cudnn.benchmark = False\n",
    "    torch.set_default_dtype(torch.float32)\n",
    "set_seed()"
   ]
  },
  {
   "cell_type": "code",
   "execution_count": null,
   "metadata": {},
   "outputs": [
    {
     "name": "stdout",
     "output_type": "stream",
     "text": [
      "Files already downloaded and verified\n",
      "Files already downloaded and verified\n",
      "Files already downloaded and verified\n",
      "./SNN_results/cifar10/SlimmableResNet34/Epochs200_BatchSize128_LR0.01\n"
     ]
    }
   ],
   "source": [
    "#################### Setting Hyperparameters\n",
    "class Arguments:\n",
    "    gpu = '0'\n",
    "    cpus = 4\n",
    "    dataset = 'cifar10'\n",
    "    model_name = 'ResNet_34'     # ResNet_34     WideResNet_16_8     MobileNetV2\n",
    "    batch_size, dim = 128, 128\n",
    "    epochs = 200\n",
    "    decay_epochs = [50, 150]\n",
    "    opt = 'sgd'\n",
    "    decay = 'cos'\n",
    "    lr = 0.01\n",
    "    momentum = 0.9\n",
    "    wd = 5e-4\n",
    "\n",
    "args = Arguments()\n",
    "os.environ['CUDA_VISIBLE_DEVICES'] = args.gpu\n",
    "torch.backends.cudnn.benchmark = True\n",
    "\n",
    "############### DATA LOADERS:\n",
    "if args.dataset == 'cifar10':\n",
    "    train_loader, val_loader, test_loader = cifar10_dataloaders(train_batch_size=args.batch_size, num_workers=args.cpus)\n",
    "elif args.dataset == 'svhn':\n",
    "    train_loader, val_loader, test_loader = svhn_dataloaders(train_batch_size=args.batch_size, num_workers=args.cpus)\n",
    "elif args.dataset == 'stl10':\n",
    "    train_loader, val_loader = stl10_dataloaders(train_batch_size=args.batch_size, num_workers=args.cpus)\n",
    "\n",
    "############### MODEL SELECTION:\n",
    "FiLM_in_channels = args.dim\n",
    "\n",
    "if args.model_name == 'ResNet_34':\n",
    "    model_fn = SlimmableResNet34\n",
    "    model = model_fn().cuda()\n",
    "elif args.model_name == 'WideResNet_16_8':\n",
    "    model_fn = SlimmableWideResNet_16_8\n",
    "    model = model_fn(depth=16, num_classes=10, widen_factor=8, dropRate=0.0).to(device)\n",
    "elif args.model_name == 'MobileNetV2':\n",
    "    model_fn = SlimmableMobileNetV2\n",
    "    model = model_fn().cuda()"
   ]
  },
  {
   "cell_type": "code",
   "execution_count": null,
   "metadata": {},
   "outputs": [
    {
     "name": "stdout",
     "output_type": "stream",
     "text": [
      "Number of Sub-Nets: 32\n"
     ]
    }
   ],
   "source": [
    "print(f\"Number of Sub-Nets: {len(width_mult_list)}\")    # Note: width_mult_list should be compatible with the model to be evaluated"
   ]
  },
  {
   "cell_type": "markdown",
   "metadata": {},
   "source": [
    "#### **Load Trained Model**"
   ]
  },
  {
   "cell_type": "code",
   "execution_count": null,
   "metadata": {},
   "outputs": [
    {
     "data": {
      "text/plain": [
       "<All keys matched successfully>"
      ]
     },
     "execution_count": 6,
     "metadata": {},
     "output_type": "execute_result"
    }
   ],
   "source": [
    "############### For loading Best MODELs\n",
    "model_path = \"./SNN_results/\"    ##############  Provide Correct Model Path\n",
    "model_name = \"Best_Model.pth\"    ##############  Use Correct Model Name\n",
    "\n",
    "model_path = model_path + model_name\n",
    "ckpt = torch.load(model_path)\n",
    "model.load_state_dict(ckpt)"
   ]
  },
  {
   "cell_type": "code",
   "execution_count": null,
   "metadata": {},
   "outputs": [],
   "source": [
    "def test_model(model, sub_net_ID):\n",
    "    ################################## TESTING\n",
    "    model.eval()\n",
    "    requires_grad_(model, False)\n",
    "    test_accs = AverageMeter()\n",
    "    for i, (imgs, labels) in enumerate(test_loader):\n",
    "        imgs, labels = imgs.cuda(), labels.cuda()\n",
    "        logits = model(imgs)\n",
    "        test_accs.append((logits.argmax(1) == labels).float().mean().item())\n",
    "    print(round(test_accs.avg * 100, 2))\n",
    "    return"
   ]
  },
  {
   "cell_type": "code",
   "execution_count": null,
   "metadata": {},
   "outputs": [],
   "source": [
    "sub_net_width = 0\n",
    "test_accuracies = []\n",
    "\n",
    "for i in range(len(width_mult_list)):\n",
    "    sub_net_width += 1/len(width_mult_list)\n",
    "    i+=1\n",
    "    model.apply(lambda m: setattr(m, 'width_mult', sub_net_width))\n",
    "    test_acc = test_model(model, i)"
   ]
  }
 ],
 "metadata": {
  "kernelspec": {
   "display_name": "ofa_adv",
   "language": "python",
   "name": "python3"
  },
  "language_info": {
   "codemirror_mode": {
    "name": "ipython",
    "version": 3
   },
   "file_extension": ".py",
   "mimetype": "text/x-python",
   "name": "python",
   "nbconvert_exporter": "python",
   "pygments_lexer": "ipython3",
   "version": "3.8.20"
  }
 },
 "nbformat": 4,
 "nbformat_minor": 2
}
